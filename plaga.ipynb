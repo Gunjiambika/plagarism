{
 "cells": [
  {
   "cell_type": "code",
   "execution_count": 1,
   "id": "07ed79da-4422-4c31-a277-4aefe7cffd60",
   "metadata": {},
   "outputs": [
    {
     "name": "stdout",
     "output_type": "stream",
     "text": [
      "C:\\Users\\gunji\\OneDrive\\Documents\\plagarism\n"
     ]
    }
   ],
   "source": [
    "cd \"C:\\Users\\gunji\\OneDrive\\Documents\\plagarism\""
   ]
  },
  {
   "cell_type": "code",
   "execution_count": 3,
   "id": "056ff28a-b16d-46b7-83e4-f859faf39f08",
   "metadata": {},
   "outputs": [
    {
     "name": "stdout",
     "output_type": "stream",
     "text": [
      "Requirement already satisfied: scikit-learn in c:\\users\\gunji\\anaconda3\\lib\\site-packages (1.2.2)\n",
      "Requirement already satisfied: numpy>=1.17.3 in c:\\users\\gunji\\anaconda3\\lib\\site-packages (from scikit-learn) (1.26.4)\n",
      "Requirement already satisfied: scipy>=1.3.2 in c:\\users\\gunji\\anaconda3\\lib\\site-packages (from scikit-learn) (1.11.4)\n",
      "Requirement already satisfied: joblib>=1.1.1 in c:\\users\\gunji\\anaconda3\\lib\\site-packages (from scikit-learn) (1.2.0)\n",
      "Requirement already satisfied: threadpoolctl>=2.0.0 in c:\\users\\gunji\\anaconda3\\lib\\site-packages (from scikit-learn) (2.2.0)\n",
      "Note: you may need to restart the kernel to use updated packages.\n"
     ]
    }
   ],
   "source": [
    "pip install scikit-learn --only-binary :all:"
   ]
  },
  {
   "cell_type": "code",
   "execution_count": 5,
   "id": "b5d31a80-5354-419d-b4b4-d397528eb9ff",
   "metadata": {},
   "outputs": [],
   "source": [
    "import os"
   ]
  },
  {
   "cell_type": "code",
   "execution_count": 7,
   "id": "ad5560b4-6594-4f3c-9635-b180d564a362",
   "metadata": {},
   "outputs": [],
   "source": [
    "from sklearn.feature_extraction.text import TfidfVectorizer"
   ]
  },
  {
   "cell_type": "code",
   "execution_count": 9,
   "id": "9313361b-676d-4661-82a7-808d0a14f30e",
   "metadata": {},
   "outputs": [],
   "source": [
    "from sklearn.metrics.pairwise import cosine_similarity"
   ]
  },
  {
   "cell_type": "code",
   "execution_count": 11,
   "id": "0d95688f-7e27-4e48-8c40-34e4b4b80e8d",
   "metadata": {},
   "outputs": [],
   "source": [
    "f_files = [doc for doc in os.listdir() if doc.endswith('.txt')]\n",
    "f_notes = [open(_file, encoding='utf-8').read()\n",
    "                 for _file in f_files]"
   ]
  },
  {
   "cell_type": "code",
   "execution_count": 17,
   "id": "88f2c46b-ad3c-4f64-a2e9-5b05be192ea0",
   "metadata": {},
   "outputs": [],
   "source": [
    "def vectorize(Text): return TfidfVectorizer().fit_transform(Text).toarray()\n",
    "def similarity(doc1, doc2): return cosine_similarity([doc1, doc2])"
   ]
  },
  {
   "cell_type": "code",
   "execution_count": 19,
   "id": "47f1ccbf-783e-4c1e-a3f5-7c5f535fa24e",
   "metadata": {},
   "outputs": [],
   "source": [
    "vectors = vectorize(f_notes)\n",
    "s_vectors = list(zip(f_files, vectors))\n",
    "plagiarism_results = set()"
   ]
  },
  {
   "cell_type": "code",
   "execution_count": 21,
   "id": "b1e3395b-ac10-4bc5-b8bc-921d951e2f59",
   "metadata": {},
   "outputs": [],
   "source": [
    "def check_plagiarism():\n",
    "    global s_vectors\n",
    "    for f_a, text_vector_a in s_vectors:\n",
    "        new_vectors = s_vectors.copy()\n",
    "        current_index = new_vectors.index((f_a, text_vector_a))\n",
    "        del new_vectors[current_index]\n",
    "        for f_b, text_vector_b in new_vectors:\n",
    "            sim_score = similarity(text_vector_a, text_vector_b)[0][1]\n",
    "            f_pair = sorted((f_a, f_b))\n",
    "            score = (f_pair[0], f_pair[1], sim_score)\n",
    "            plagiarism_results.add(score)\n",
    "    return plagiarism_results\n"
   ]
  },
  {
   "cell_type": "code",
   "execution_count": 23,
   "id": "84fc2103-627f-4ec0-b55a-eae57fc24dda",
   "metadata": {},
   "outputs": [
    {
     "name": "stdout",
     "output_type": "stream",
     "text": [
      "('f1.txt', 'f3.txt', 0.4875769247236282)\n",
      "('f1.txt', 'f4.txt', 0.995817797754143)\n",
      "('f1.txt', 'f2.txt', 0.3865479169385839)\n",
      "('f2.txt', 'f4.txt', 0.3853591201611167)\n",
      "('f3.txt', 'f4.txt', 0.4996244322870258)\n",
      "('f2.txt', 'f3.txt', 0.3796845659621356)\n"
     ]
    }
   ],
   "source": [
    "for data in check_plagiarism():\n",
    "    print(data)"
   ]
  },
  {
   "cell_type": "code",
   "execution_count": null,
   "id": "ad492090-4df8-4503-9c29-28af6b327fd6",
   "metadata": {},
   "outputs": [],
   "source": []
  }
 ],
 "metadata": {
  "kernelspec": {
   "display_name": "Python 3 (ipykernel)",
   "language": "python",
   "name": "python3"
  },
  "language_info": {
   "codemirror_mode": {
    "name": "ipython",
    "version": 3
   },
   "file_extension": ".py",
   "mimetype": "text/x-python",
   "name": "python",
   "nbconvert_exporter": "python",
   "pygments_lexer": "ipython3",
   "version": "3.11.7"
  }
 },
 "nbformat": 4,
 "nbformat_minor": 5
}
